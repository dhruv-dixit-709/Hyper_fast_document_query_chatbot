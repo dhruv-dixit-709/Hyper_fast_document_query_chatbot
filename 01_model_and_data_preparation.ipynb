{
 "cells": [
  {
   "cell_type": "code",
   "execution_count": 1,
   "id": "2de222f7",
   "metadata": {},
   "outputs": [
    {
     "name": "stdout",
     "output_type": "stream",
     "text": [
      "NeMo and ASR module imported successfully!\n"
     ]
    }
   ],
   "source": [
    "import nemo\n",
    "import nemo.collections.asr as nemo_asr\n",
    "\n",
    "print(\"NeMo and ASR module imported successfully!\")"
   ]
  },
  {
   "cell_type": "code",
   "execution_count": null,
   "id": "73efb325",
   "metadata": {},
   "outputs": [],
   "source": [
    "HF_MODEL_NAME_OR_PATH = \"meta-llama/Llama-3.1-8B\"\n",
    "\n",
    "ROOT_DIR = \"/workspace\"\n",
    "NEMO_OUTPUT_PATH = f\"{ROOT_DIR}/Llama-3.1-8B-nemo\"\n",
    "DATA_PATH = f\"{ROOT_DIR}/SAT_DATA-data\""
   ]
  },
  {
   "cell_type": "markdown",
   "id": "fca2355f",
   "metadata": {},
   "source": [
    "### Step 1: Convert the Hugging Face model to NeMo checkoint format"
   ]
  },
  {
   "cell_type": "code",
   "execution_count": null,
   "id": "84cb6425",
   "metadata": {},
   "outputs": [],
   "source": [
    "!python -c 'from nemo.collections import llm; llm.import_ckpt(llm.LlamaModel(llm.Llama31Config8B()), source=\"hf://{HF_MODEL_NAME_OR_PATH}\", output_path=\"{NEMO_OUTPUT_PATH}\")'"
   ]
  },
  {
   "cell_type": "markdown",
   "id": "16a9e822",
   "metadata": {},
   "source": [
    "### Step 2: Prepare the dataset"
   ]
  },
  {
   "cell_type": "code",
   "execution_count": null,
   "id": "6a3a359a",
   "metadata": {},
   "outputs": [],
   "source": [
    "import json\n",
    "import os\n",
    "\n",
    "from datasets import load_dataset\n",
    "\n",
    "# Load the SAT_DATA-103 dataset\n",
    "dataset = load_dataset(\"SAT_DATA\", \"SAT_DATA-250\")\n",
    "\n",
    "# Define the destination folder\n",
    "os.makedirs(DATA_PATH, exist_ok=True)\n",
    "\n",
    "\n",
    "# Function to save dataset split to a JSONL file\n",
    "def save_to_jsonl(file_path, data):\n",
    "    with open(file_path, \"w\") as file:\n",
    "        for item in data:\n",
    "            file.write(json.dumps(item) + \"\\n\")\n",
    "\n",
    "\n",
    "# Define splits\n",
    "splits = [\"train\", \"validation\", \"test\"]\n",
    "file_paths = {split: os.path.join(DATA_PATH, f\"SAT_DATA-{split}.jsonl\") for split in splits}\n",
    "\n",
    "# Save splits to JSONL files and calculate their sizes\n",
    "for split in splits:\n",
    "    if split in dataset:\n",
    "        print(f\"Saving {split} split to {file_paths[split]}\")\n",
    "        save_to_jsonl(file_paths[split], dataset[split])\n",
    "    else:\n",
    "        print(f\"Split {split} not found in the dataset.\")\n",
    "\n",
    "print(\"Dataset saved to JSONL files.\")"
   ]
  },
  {
   "cell_type": "code",
   "execution_count": null,
   "id": "6505c00b-9eb4-4087-9e49-423f6228e690",
   "metadata": {
    "scrolled": true,
    "tags": []
   },
   "outputs": [],
   "source": [
    "!python /opt/NeMo/scripts/nlp_language_modeling/preprocess_data_for_megatron.py \\\n",
    "    --input=\"{DATA_PATH}/SAT_DATA-train.jsonl\" \\\n",
    "    --tokenizer-library=huggingface \\\n",
    "    --tokenizer-type=\"{HF_MODEL_NAME_OR_PATH}\" \\\n",
    "    --output-prefix=\"{DATA_PATH}/SAT_DATA_tokenized_train\" \\\n",
    "    --append-eod \\\n",
    "    --workers=32"
   ]
  },
  {
   "cell_type": "code",
   "execution_count": null,
   "id": "42bec54a-94f6-4c87-8e14-2726ef6c2625",
   "metadata": {
    "scrolled": true,
    "tags": []
   },
   "outputs": [],
   "source": [
    "!python /opt/NeMo/scripts/nlp_language_modeling/preprocess_data_for_megatron.py \\\n",
    "    --input=\"{DATA_PATH}/SAT_DATA-validation.jsonl\" \\\n",
    "    --tokenizer-library=huggingface \\\n",
    "    --tokenizer-type=\"{HF_MODEL_NAME_OR_PATH}\" \\\n",
    "    --output-prefix=\"{DATA_PATH}/SAT_DATA_tokenized_val\" \\\n",
    "    --append-eod \\\n",
    "    --workers=32"
   ]
  },
  {
   "cell_type": "code",
   "execution_count": null,
   "id": "fb1aa80f-70bc-4dff-8b08-3bff48d9a1c3",
   "metadata": {
    "scrolled": true,
    "tags": []
   },
   "outputs": [],
   "source": [
    "!python /opt/NeMo/scripts/nlp_language_modeling/preprocess_data_for_megatron.py \\\n",
    "    --input=\"{DATA_PATH}/SAT_DATA-test.jsonl\" \\\n",
    "    --tokenizer-library=huggingface \\\n",
    "    --tokenizer-type=\"{HF_MODEL_NAME_OR_PATH}\" \\\n",
    "    --output-prefix=\"{DATA_PATH}/SAT_DATA_tokenized_test\" \\\n",
    "    --append-eod \\\n",
    "    --workers=32"
   ]
  },
  {
   "cell_type": "markdown",
   "id": "5d77ee8a-e0dc-44f7-b5e8-3b6025d979d7",
   "metadata": {},
   "source": [
    "After running the above scripts, you will see the preprocesed `/workspace/SAT_DATA-data/SAT_DATA_tokenized_{train/val/test}_text_document.{idx/bin}`files. These output files will be used in the next step."
   ]
  }
 ],
 "metadata": {
  "kernelspec": {
   "display_name": "Python 3",
   "language": "python",
   "name": "python3"
  },
  "language_info": {
   "codemirror_mode": {
    "name": "ipython",
    "version": 3
   },
   "file_extension": ".py",
   "mimetype": "text/x-python",
   "name": "python",
   "nbconvert_exporter": "python",
   "pygments_lexer": "ipython3",
   "version": "3.10.6"
  }
 },
 "nbformat": 4,
 "nbformat_minor": 5
}
